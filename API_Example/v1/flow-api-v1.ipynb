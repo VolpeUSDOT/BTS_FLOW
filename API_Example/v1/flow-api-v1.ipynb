{
 "cells": [
  {
   "cell_type": "code",
   "execution_count": 9,
   "id": "b881fcae",
   "metadata": {},
   "outputs": [],
   "source": [
    "import requests\n",
    "import sys\n",
    "import datetime"
   ]
  },
  {
   "cell_type": "code",
   "execution_count": 13,
   "id": "9433cac4",
   "metadata": {},
   "outputs": [],
   "source": [
    "# This file will demonstrate a simple example of authenticating with the FLOW API \n",
    "# and using the resulting access token to make a request\n",
    "\n",
    "client_id = \"YOUR_ID\"\n",
    "client_secret = \"YOUR_KEY\"\n",
    "\n",
    "# This is the URL to which we will send our intial request and recieve a JWT token\n",
    "authentication_url = \"https://www.c3rs.bts.gov/realms/flow-data-realm/protocol/openid-connect/token\"\n",
    "\n",
    "body = {'grant_type' : \"client_credentials\"}"
   ]
  },
  {
   "cell_type": "code",
   "execution_count": 14,
   "id": "f0d46708",
   "metadata": {},
   "outputs": [],
   "source": [
    "# Authenticate with client_id and client_secret to acquire Access Token\n",
    "\n",
    "auth_response = requests.post(authentication_url, data=body, auth=(client_id, client_secret))"
   ]
  },
  {
   "cell_type": "code",
   "execution_count": 15,
   "id": "84483d03",
   "metadata": {},
   "outputs": [
    {
     "name": "stdout",
     "output_type": "stream",
     "text": [
      "Authentication successful!\n",
      "{'access_token': '***REMOVED***'}\n"
     ]
    }
   ],
   "source": [
    "if auth_response.status_code != 200:\n",
    "    print(\"Authentication failed\")\n",
    "    sys.exit(\"Authentication failed - please verify your client ID and secret are correct\")\n",
    "else:\n",
    "    # If the response is good, we have successfully authenticated!\n",
    "    print(\"Authentication successful!\")\n",
    "    print(auth_response.json())"
   ]
  },
  {
   "cell_type": "code",
   "execution_count": 16,
   "id": "949f4eb9",
   "metadata": {},
   "outputs": [
    {
     "name": "stdout",
     "output_type": "stream",
     "text": [
      "***REMOVED***\n"
     ]
    }
   ],
   "source": [
    "# The response will include a JWT token named 'access_token' which we will include with our API requests\n",
    "access_token = auth_response.json()['access_token']\n",
    "# access_token = \"\"\n",
    "print(access_token)"
   ]
  },
  {
   "cell_type": "code",
   "execution_count": 17,
   "id": "32ce1234",
   "metadata": {},
   "outputs": [
    {
     "name": "stdout",
     "output_type": "stream",
     "text": [
      "2024-03-18 14:08:05.939338\n"
     ]
    }
   ],
   "source": [
    "# With the access token, we are now able to make requests to the API. For these, we will use Bearer authentication\n",
    "print(datetime.datetime.now())  # print time just to know if your token may have expired since authentication.\n",
    "\n",
    "api_request_header = {\"Authorization\": \"Bearer \" + access_token}\n",
    "\n",
    "# Make a sample request to the API for a list of ports\n",
    "# test 1. get the port list \n",
    "api_response = requests.get(\"https://www.c3rs.bts.gov/flow-api/api/v0/port\", headers=api_request_header)"
   ]
  },
  {
   "cell_type": "code",
   "execution_count": 18,
   "id": "a44ba1a3",
   "metadata": {},
   "outputs": [
    {
     "name": "stdout",
     "output_type": "stream",
     "text": [
      "<Response [200]>\n"
     ]
    }
   ],
   "source": [
    "print(api_response)"
   ]
  },
  {
   "cell_type": "code",
   "execution_count": 19,
   "id": "1434334e",
   "metadata": {},
   "outputs": [
    {
     "name": "stdout",
     "output_type": "stream",
     "text": [
      "{'name': None, 'portLocode': 'USSAV', 'supplySignals': ['CHA20', 'CHA40', 'MTO'], 'demandSignals': ['BCO', 'OC']}\n"
     ]
    }
   ],
   "source": [
    "# test 2. get metadata for port\n",
    "api_response = requests.get(\"https://www.c3rs.bts.gov/flow-api/api/v0/port/USSAV\", headers=api_request_header)\n",
    "# api_response = requests.get(\"https://www.c3rs.bts.gov/flow-api/api/port/USLAX\", headers=api_request_header)\n",
    "# api_response = requests.get(\"https://www.c3rs.bts.gov/flow-api/api/port/USLB\", headers=api_request_header)\n",
    "\n",
    "print(api_response.json())"
   ]
  },
  {
   "cell_type": "code",
   "execution_count": 20,
   "id": "26f32c80",
   "metadata": {},
   "outputs": [
    {
     "name": "stdout",
     "output_type": "stream",
     "text": [
     ]
    }
   ],
   "source": [
    "# test 3. get all available signals\n",
    "api_response = requests.get(\"https://www.c3rs.bts.gov/flow-api/api/v1/port/USSAV/daily?signal=all&startDate=2023-12-01&endDate=2023-12-15\", headers=api_request_header)\n",
    "print(api_response.json())"
   ]
  },
  {
   "cell_type": "code",
   "execution_count": 21,
   "id": "fc5c1279",
   "metadata": {},
   "outputs": [
    {
     "name": "stdout",
     "output_type": "stream",
     "text": [
     ]
    }
   ],
   "source": [
    "# test 4. get single signal\n",
    "api_response = requests.get(\"https://www.c3rs.bts.gov/flow-api/api/v1/port/USSAV/daily?signal=oc&startDate=2023-12-01&endDate=2023-12-15\", headers=api_request_header)\n",
    "print(api_response.json())"
   ]
  },
  {
   "cell_type": "code",
   "execution_count": 22,
   "id": "7532cea0",
   "metadata": {},
   "outputs": [
    {
     "name": "stdout",
     "output_type": "stream",
     "text": [
     ]
    }
   ],
   "source": [
    "# test 5. get multiple signals\n",
    "api_response = requests.get(\"https://www.c3rs.bts.gov/flow-api/api/v1/port/USSAV/daily?signal=oc&signal=cha&startDate=2023-12-01&endDate=2023-12-15\", headers=api_request_header)\n",
    "print(api_response.json())"
   ]
  },
  {
   "cell_type": "code",
   "execution_count": 23,
   "id": "f64e5d54",
   "metadata": {},
   "outputs": [
    {
     "name": "stdout",
     "output_type": "stream",
     "text": [
     ]
    }
   ],
   "source": [
    "# test 6. get coverage data\n",
    "api_response = requests.get(\"https://www.c3rs.bts.gov/flow-api/api/v1/port/USSAV/coverage?signal=ALL\", headers=api_request_header)\n",
    "print(api_response.json())"
   ]
  },
  {
   "cell_type": "code",
   "execution_count": 24,
   "id": "d22d6bde",
   "metadata": {},
   "outputs": [
    {
     "name": "stdout",
     "output_type": "stream",
     "text": [
     ]
    }
   ],
   "source": [
    "# test 7. get throughput data\n",
    "api_response = requests.get(\"https://www.c3rs.bts.gov/flow-api/api/v1/port/USSAV/throughput?signal=ALL&startDate=2024-01-01&endDate=2024-01-10\", headers=api_request_header)\n",
    "print(api_response.json())"
   ]
  },
  {
   "cell_type": "code",
   "execution_count": null,
   "id": "6d711a28",
   "metadata": {},
   "outputs": [],
   "source": []
  },
  {
   "cell_type": "code",
   "execution_count": null,
   "id": "7748dd95",
   "metadata": {},
   "outputs": [],
   "source": []
  },
  {
   "cell_type": "code",
   "execution_count": null,
   "id": "d11575ab",
   "metadata": {},
   "outputs": [],
   "source": []
  }
 ],
 "metadata": {
  "kernelspec": {
   "display_name": "Python 3 (ipykernel)",
   "language": "python",
   "name": "python3"
  },
  "language_info": {
   "codemirror_mode": {
    "name": "ipython",
    "version": 3
   },
   "file_extension": ".py",
   "mimetype": "text/x-python",
   "name": "python",
   "nbconvert_exporter": "python",
   "pygments_lexer": "ipython3",
   "version": "3.11.4"
  }
 },
 "nbformat": 4,
 "nbformat_minor": 5
}
